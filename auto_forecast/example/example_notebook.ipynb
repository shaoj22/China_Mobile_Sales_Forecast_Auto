{
 "cells": [
  {
   "cell_type": "code",
   "execution_count": null,
   "metadata": {},
   "outputs": [
    {
     "ename": "",
     "evalue": "",
     "output_type": "error",
     "traceback": [
      "\u001b[1;31m运行具有“shaoj22”的单元格需要ipykernel包。\n",
      "\u001b[1;31mRun the following command to install 'ipykernel' into the Python environment. \n",
      "\u001b[1;31mCommand: 'conda install -n shaoj22 ipykernel --update-deps --force-reinstall'"
     ]
    }
   ],
   "source": [
    "# to run notebook inside of package\n",
    "import sys\n",
    "sys.path.append('/Users/mollyliebeskind/Documents/auto_forecast/auto_forecast')\n",
    "\n",
    "# standard data manipulation imports\n",
    "import pandas as pd\n",
    "\n",
    "# import internal package functions\n",
    "from src.plotting import *\n",
    "from src.data_processing import *\n",
    "from src.modeling import SalesForecasting"
   ]
  },
  {
   "cell_type": "markdown",
   "metadata": {},
   "source": [
    "# Run the package"
   ]
  },
  {
   "cell_type": "code",
   "execution_count": null,
   "metadata": {},
   "outputs": [
    {
     "ename": "",
     "evalue": "",
     "output_type": "error",
     "traceback": [
      "\u001b[1;31m运行具有“shaoj22”的单元格需要ipykernel包。\n",
      "\u001b[1;31mRun the following command to install 'ipykernel' into the Python environment. \n",
      "\u001b[1;31mCommand: 'conda install -n shaoj22 ipykernel --update-deps --force-reinstall'"
     ]
    }
   ],
   "source": [
    "value_col = 'sales'\n",
    "diffed_value_col = f\"{value_col}_differenced\"\n",
    "date_col = 'date'\n",
    "mean_freq = 'Y'\n",
    "forecast_horizon = 12\n",
    "model_list = ['LinearRegression', 'RandomForest', 'XGBoost', 'LSTM', 'ARIMA'] \n",
    "\n",
    "daily_data = pd.read_csv('train.csv')\n",
    "\n",
    "monthly_data = aggregate_by_time(\n",
    "    daily_data, \n",
    "    date_col, \n",
    "    resample_freq='M', \n",
    "    aggregate='sum'\n",
    "    )\n",
    "\n",
    "monthly_data = difference_data(\n",
    "    data=monthly_data, \n",
    "    date_col=date_col,\n",
    "    value_col=value_col, \n",
    "    diff_value_col_name=diffed_value_col\n",
    "    )\n",
    "\n",
    "supervised_data = create_lag_data(\n",
    "    data=monthly_data, \n",
    "    date_col=date_col, \n",
    "    value_col=diffed_value_col, \n",
    "    lags=13)\n",
    "\n",
    "# train, test = create_train_test(supervised_data, test_size)\n",
    "\n",
    "x_cols = list(supervised_data.drop(['store', 'item', date_col, value_col, diffed_value_col], axis=1).columns)\n",
    "supervised_data = supervised_data[[date_col] + x_cols + [diffed_value_col]]\n",
    "train, test = create_train_test(supervised_data, forecast_horizon)\n",
    "\n",
    "scaler = DataScaler()\n",
    "print('Train data shape: ', train.shape)\n",
    "train_scaled = scaler.fit_transform(train).set_index(date_col)\n",
    "test_scaled = scaler.transform(test).set_index(date_col)\n",
    "print('Train data shape: ', train_scaled.shape)\n",
    "\n",
    "model = SalesForecasting(model_list=model_list)\n",
    "model.fit(train_scaled[x_cols], train_scaled[[diffed_value_col]])\n",
    "output = model.predict(test_scaled[x_cols], y_values=test_scaled[[diffed_value_col]], scaler=scaler)"
   ]
  },
  {
   "cell_type": "code",
   "execution_count": null,
   "metadata": {},
   "outputs": [
    {
     "ename": "",
     "evalue": "",
     "output_type": "error",
     "traceback": [
      "\u001b[1;31m运行具有“shaoj22”的单元格需要ipykernel包。\n",
      "\u001b[1;31mRun the following command to install 'ipykernel' into the Python environment. \n",
      "\u001b[1;31mCommand: 'conda install -n shaoj22 ipykernel --update-deps --force-reinstall'"
     ]
    }
   ],
   "source": [
    "results_plot = model.plot_results()"
   ]
  },
  {
   "cell_type": "code",
   "execution_count": null,
   "metadata": {},
   "outputs": [
    {
     "ename": "",
     "evalue": "",
     "output_type": "error",
     "traceback": [
      "\u001b[1;31m运行具有“shaoj22”的单元格需要ipykernel包。\n",
      "\u001b[1;31mRun the following command to install 'ipykernel' into the Python environment. \n",
      "\u001b[1;31mCommand: 'conda install -n shaoj22 ipykernel --update-deps --force-reinstall'"
     ]
    }
   ],
   "source": [
    "errors_plot = model.plot_errs()"
   ]
  },
  {
   "cell_type": "code",
   "execution_count": null,
   "metadata": {},
   "outputs": [
    {
     "ename": "",
     "evalue": "",
     "output_type": "error",
     "traceback": [
      "\u001b[1;31m运行具有“shaoj22”的单元格需要ipykernel包。\n",
      "\u001b[1;31mRun the following command to install 'ipykernel' into the Python environment. \n",
      "\u001b[1;31mCommand: 'conda install -n shaoj22 ipykernel --update-deps --force-reinstall'"
     ]
    }
   ],
   "source": [
    "output_df = pd.DataFrame(model.stored_models).T\n",
    "output_df"
   ]
  },
  {
   "cell_type": "markdown",
   "metadata": {},
   "source": [
    "# Visualize EDA"
   ]
  },
  {
   "cell_type": "code",
   "execution_count": null,
   "metadata": {},
   "outputs": [
    {
     "ename": "",
     "evalue": "",
     "output_type": "error",
     "traceback": [
      "\u001b[1;31m运行具有“shaoj22”的单元格需要ipykernel包。\n",
      "\u001b[1;31mRun the following command to install 'ipykernel' into the Python environment. \n",
      "\u001b[1;31mCommand: 'conda install -n shaoj22 ipykernel --update-deps --force-reinstall'"
     ]
    }
   ],
   "source": [
    "plot_periodic_values_hist(daily_data, value_col)"
   ]
  },
  {
   "cell_type": "code",
   "execution_count": null,
   "metadata": {},
   "outputs": [
    {
     "ename": "",
     "evalue": "",
     "output_type": "error",
     "traceback": [
      "\u001b[1;31m运行具有“shaoj22”的单元格需要ipykernel包。\n",
      "\u001b[1;31mRun the following command to install 'ipykernel' into the Python environment. \n",
      "\u001b[1;31mCommand: 'conda install -n shaoj22 ipykernel --update-deps --force-reinstall'"
     ]
    }
   ],
   "source": [
    "plot_values_per_group(daily_data, value_col, ['store'])"
   ]
  },
  {
   "cell_type": "code",
   "execution_count": null,
   "metadata": {},
   "outputs": [
    {
     "ename": "",
     "evalue": "",
     "output_type": "error",
     "traceback": [
      "\u001b[1;31m运行具有“shaoj22”的单元格需要ipykernel包。\n",
      "\u001b[1;31mRun the following command to install 'ipykernel' into the Python environment. \n",
      "\u001b[1;31mCommand: 'conda install -n shaoj22 ipykernel --update-deps --force-reinstall'"
     ]
    }
   ],
   "source": [
    "plot_time_series(monthly_data, date_col, value_col, mean_freq)"
   ]
  },
  {
   "cell_type": "markdown",
   "metadata": {},
   "source": [
    "# Visualize Data Processing"
   ]
  },
  {
   "cell_type": "code",
   "execution_count": null,
   "metadata": {},
   "outputs": [
    {
     "ename": "",
     "evalue": "",
     "output_type": "error",
     "traceback": [
      "\u001b[1;31m运行具有“shaoj22”的单元格需要ipykernel包。\n",
      "\u001b[1;31mRun the following command to install 'ipykernel' into the Python environment. \n",
      "\u001b[1;31mCommand: 'conda install -n shaoj22 ipykernel --update-deps --force-reinstall'"
     ]
    }
   ],
   "source": [
    "plot_time_series(monthly_data, date_col, diffed_value_col, mean_freq)"
   ]
  },
  {
   "cell_type": "code",
   "execution_count": null,
   "metadata": {},
   "outputs": [
    {
     "ename": "",
     "evalue": "",
     "output_type": "error",
     "traceback": [
      "\u001b[1;31m运行具有“shaoj22”的单元格需要ipykernel包。\n",
      "\u001b[1;31mRun the following command to install 'ipykernel' into the Python environment. \n",
      "\u001b[1;31mCommand: 'conda install -n shaoj22 ipykernel --update-deps --force-reinstall'"
     ]
    }
   ],
   "source": [
    "plt_acf_pcf(monthly_data, date_col, diffed_value_col)"
   ]
  },
  {
   "cell_type": "code",
   "execution_count": null,
   "metadata": {},
   "outputs": [
    {
     "ename": "",
     "evalue": "",
     "output_type": "error",
     "traceback": [
      "\u001b[1;31m运行具有“shaoj22”的单元格需要ipykernel包。\n",
      "\u001b[1;31mRun the following command to install 'ipykernel' into the Python environment. \n",
      "\u001b[1;31mCommand: 'conda install -n shaoj22 ipykernel --update-deps --force-reinstall'"
     ]
    }
   ],
   "source": [
    "\n",
    "plot_lag_cols(supervised_data, date_col, diffed_value_col, 'lag', num_lags=3)"
   ]
  },
  {
   "cell_type": "code",
   "execution_count": null,
   "metadata": {},
   "outputs": [
    {
     "ename": "",
     "evalue": "",
     "output_type": "error",
     "traceback": [
      "\u001b[1;31m运行具有“shaoj22”的单元格需要ipykernel包。\n",
      "\u001b[1;31mRun the following command to install 'ipykernel' into the Python environment. \n",
      "\u001b[1;31mCommand: 'conda install -n shaoj22 ipykernel --update-deps --force-reinstall'"
     ]
    }
   ],
   "source": [
    "visualize_train_test(train, test, date_col, diffed_value_col, figsize=(12,4))"
   ]
  }
 ],
 "metadata": {
  "kernelspec": {
   "display_name": "auto-forecasting",
   "language": "python",
   "name": "python3"
  },
  "language_info": {
   "codemirror_mode": {
    "name": "ipython",
    "version": 3
   },
   "file_extension": ".py",
   "mimetype": "text/x-python",
   "name": "python",
   "nbconvert_exporter": "python",
   "pygments_lexer": "ipython3",
   "version": "3.11.3"
  },
  "orig_nbformat": 4
 },
 "nbformat": 4,
 "nbformat_minor": 2
}
